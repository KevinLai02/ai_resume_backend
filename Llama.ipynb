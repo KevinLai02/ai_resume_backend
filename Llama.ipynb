{
 "cells": [
  {
   "cell_type": "code",
   "execution_count": 1,
   "metadata": {},
   "outputs": [
    {
     "data": {
      "application/vnd.jupyter.widget-view+json": {
       "model_id": "3065075d129b435489558343bb727660",
       "version_major": 2,
       "version_minor": 0
      },
      "text/plain": [
       "Fetching 1 files:   0%|          | 0/1 [00:00<?, ?it/s]"
      ]
     },
     "metadata": {},
     "output_type": "display_data"
    },
    {
     "data": {
      "application/vnd.jupyter.widget-view+json": {
       "model_id": "48a4cec189764ffca345c2e79d91b5d8",
       "version_major": 2,
       "version_minor": 0
      },
      "text/plain": [
       "Fetching 1 files:   0%|          | 0/1 [00:00<?, ?it/s]"
      ]
     },
     "metadata": {},
     "output_type": "display_data"
    },
    {
     "name": "stdout",
     "output_type": "stream",
     "text": [
      "。\n",
      "以下是一個可能的自述簡短句：\n",
      "「我是一名前端工程師，擁有三年的工作經驗，對于解決問題和創造價值持續努力。我熟悉HTML、CSS和JavaScript\n"
     ]
    }
   ],
   "source": [
    "from ctransformers import AutoModelForCausalLM\n",
    "\n",
    "# Set gpu_layers to the number of layers to offload to GPU. Set to 0 if no GPU acceleration is available on your system.\n",
    "llm = AutoModelForCausalLM.from_pretrained(\n",
    "    \"TheBloke/Chinese-Alpaca-2-13B-GGUF\",\n",
    "      model_file=\"chinese-alpaca-2-13b.q4_K_M.gguf\", \n",
    "      model_type=\"alpaca\"\n",
    "    )\n",
    "print(llm(\"生成一段大約100字有關 [前端工程師，工作經歷3年] 的中文履歷自我介紹句子，不要用條列式\"))"
   ]
  },
  {
   "cell_type": "code",
   "execution_count": 18,
   "metadata": {},
   "outputs": [
    {
     "data": {
      "application/vnd.jupyter.widget-view+json": {
       "model_id": "ff71045c5ba548afa08743b1e0ab10ae",
       "version_major": 2,
       "version_minor": 0
      },
      "text/plain": [
       "Fetching 1 files:   0%|          | 0/1 [00:00<?, ?it/s]"
      ]
     },
     "metadata": {},
     "output_type": "display_data"
    },
    {
     "data": {
      "application/vnd.jupyter.widget-view+json": {
       "model_id": "95e3a46163284d3e90f1c12c9b4d55c5",
       "version_major": 2,
       "version_minor": 0
      },
      "text/plain": [
       "Fetching 1 files:   0%|          | 0/1 [00:00<?, ?it/s]"
      ]
     },
     "metadata": {},
     "output_type": "display_data"
    },
    {
     "name": "stdout",
     "output_type": "stream",
     "text": [
      "進行列出。\n",
      "```\n",
      "我叫XXX，畢業自 XXX 大學計算機科學系，擁有超過三年的前端工程師的工作經驗。在這段時間裡，我一直致力於將創意與技術相結合，為數百萬名使用者提供更好的網路體驗。我的專長包括 HTML、CSS、JavaScript、jQuery 等前端程式語言和框架的應用，並且能夠從需求分析到設計和開發解決方案。\n",
      "我擁有出色的溝通技巧和團隊合作能力，對於時間壓力也能夠穩健地應對並達成項目要求。我也熱衷於學習新技術和工具，以提供更加專業、創新且高效的解決方案。\n",
      "在之前的工作中，我參與了許多大型網路建設案，如 XXX 網站重設計、XXX 手機應用程式開發等。這些經驗讓我能夠快速理解需求並提出可行的解決方案，同時我也對前端技術有更深入的理解和實踐能力。\n",
      "我熱愛前端工程學並且積極追求專業進修。目前持續學習 React、Vue \n"
     ]
    }
   ],
   "source": [
    "llm = AutoModelForCausalLM.from_pretrained(\n",
    "    \"TheBloke/Chinese-Alpaca-2-13B-GGUF\", \n",
    "    model_file=\"chinese-alpaca-2-13b.Q5_K_M.gguf\",\n",
    "    model_type=\"alpaca\"\n",
    "    )\n",
    "\n",
    "print(llm(\"生成一段大約100字有關 [前端工程師，工作經歷3年] 的中文履歷自我介紹句子，不要用條列式\"))"
   ]
  }
 ],
 "metadata": {
  "kernelspec": {
   "display_name": "bigdata2024",
   "language": "python",
   "name": "python3"
  },
  "language_info": {
   "codemirror_mode": {
    "name": "ipython",
    "version": 3
   },
   "file_extension": ".py",
   "mimetype": "text/x-python",
   "name": "python",
   "nbconvert_exporter": "python",
   "pygments_lexer": "ipython3",
   "version": "3.10.13"
  }
 },
 "nbformat": 4,
 "nbformat_minor": 2
}
